{
  "nbformat": 4,
  "nbformat_minor": 0,
  "metadata": {
    "colab": {
      "name": "html_03.ipynb",
      "provenance": [],
      "collapsed_sections": [],
      "authorship_tag": "ABX9TyPK3qqZAnX/d3pmuR6PeDoi",
      "include_colab_link": true
    },
    "kernelspec": {
      "name": "python3",
      "display_name": "Python 3"
    },
    "language_info": {
      "name": "python"
    }
  },
  "cells": [
    {
      "cell_type": "markdown",
      "metadata": {
        "id": "view-in-github",
        "colab_type": "text"
      },
      "source": [
        "<a href=\"https://colab.research.google.com/github/Mifekmk/UXUI/blob/main/html_03.ipynb\" target=\"_parent\"><img src=\"https://colab.research.google.com/assets/colab-badge.svg\" alt=\"Open In Colab\"/></a>"
      ]
    },
    {
      "cell_type": "markdown",
      "source": [
        "# 03장 텍스트 표시하기"
      ],
      "metadata": {
        "id": "DoHvnb1myKnz"
      }
    },
    {
      "cell_type": "markdown",
      "source": [
        "## 03-1 제목과 문단\n",
        "\n",
        "### **제목 표시하기**\n",
        "<!DOCTYPE html>\n",
        "<html lang=\"ko\">\n",
        "  <head>\n",
        "    <meta charset=\"utf-8\">\n",
        "    <title>제목 태그별 크기 비교</title>\n",
        "  </head>\n",
        "  <body>\n",
        "    <h1>숫자가 1일 때의 제목 텍스트</h1>\n",
        "    <h2>숫자가 2일 때의 제목 텍스트</h2>\n",
        "    <h3>숫자가 3일 때의 제목 텍스트</h3>\n",
        "    <h4>숫자가 4일 때의 제목 텍스트</h4>\n",
        "    <h5>숫자가 5일 때의 제목 텍스트</h5>\n",
        "    <h6>숫자가 6일 때의 제목 텍스트</h6>\n",
        "  </body>\n",
        "</html>"
      ],
      "metadata": {
        "id": "c8dkZm_-yhpq"
      }
    },
    {
      "cell_type": "markdown",
      "source": [
        "<h1>숫자가 1일 때의 제목 텍스트</h1>\n",
        "    <h2>숫자가 2일 때의 제목 텍스트\n",
        "    <h3>숫자가 3일 때의 제목 텍스트\n",
        "    <h4>숫자가 4일 때의 제목 텍스트\n",
        "    <h5>숫자가 5일 때의 제목 텍스트\n",
        "    <h6>숫자가 6일 때의 제목 텍스트"
      ],
      "metadata": {
        "id": "cirKhCamzGzK"
      }
    },
    {
      "cell_type": "markdown",
      "source": [
        "### 문단 표시하기\n",
        "---\n",
        "```\n",
        "<!DOCTYPE html>\n",
        "<html lang=\"ko\">\n",
        "  <head>\n",
        "    <meta charset=\"utf-8\">\n",
        "    <title>여기에는 문서의 제목을 입력해주세요</title>\n",
        "  </head>\n",
        "  <body>\n",
        "    <p>p 태그는 문단을 나타낼 때 사용하는 태그입니다.</p>\n",
        "    <p>하나의 문단에는 일정한 여백이 형성되어 화면 상에서 구분하기가 용이합니다.</p>\n",
        "  </body>\n",
        "</html>\n",
        "```"
      ],
      "metadata": {
        "id": "p9SvlEDuzeci"
      }
    },
    {
      "cell_type": "markdown",
      "source": [
        "### 인용구 표시하기\n",
        "```\n",
        "<body>\n",
        "  <p>p 태그는 문단을 나타낼 때 사용하는 태그입니다.</p>\n",
        "  <blockquote cite=\"https://wikidocs.net/book/7596\">웹 개발 입문자들을 대상으로 하는 HTML 교재입니다.</blockquote>\n",
        "</body>\n",
        "```\n",
        "p태그는 문단을 나타낼 때 사용하는 태그 입니다.\n",
        "> 웹 개발 입문자들을 대상으로 하는 HTML 교재입니다.\n"
      ],
      "metadata": {
        "id": "hUFNXoYrz_FD"
      }
    },
    {
      "cell_type": "markdown",
      "source": [
        "### 수평선 표시하기\n",
        "\n",
        "* 마크다운 수평선\n",
        "---\n",
        "\n",
        "* HTML 수평선\n",
        "<hr>\n",
        "\n",
        "* color = 'purple',size='10'\n",
        "<body>\n",
        "  <p>지금까지 스포츠 뉴스였습니다.</p>\n",
        "  <hr color=\"purple\" size=\"10\">\n",
        "  <p>날씨 예보입니다. 오늘은 하루 종일 맑았지만, 내일은 비가 올 예정입니다.</p>\n",
        "</body>\n",
        "<body>\n",
        "  <p>지금까지 스포츠 뉴스였습니다.</p>\n",
        "  <hr color=\"green\" size=\"15\">\n",
        "  <p>날씨 예보입니다. 오늘은 하루 종일 맑았지만, 내일은 비가 올 예정입니다.</p>\n",
        "</body>\n",
        "<body>\n",
        "  <p>지금까지 스포츠 뉴스였습니다.</p>\n",
        "  <hr color=\"red\" size=\"10\">\n",
        "  <p>날씨 예보입니다. 오늘은 하루 종일 맑았지만, 내일은 비가 올 예정입니다.</p>\n",
        "</body>"
      ],
      "metadata": {
        "id": "wfRcgVlZ0NWi"
      }
    },
    {
      "cell_type": "markdown",
      "source": [
        "## 03-2 HTML 코드의 특징\n",
        "---\n",
        "\n",
        "### HTML 코드와 개행\n",
        "\n",
        "<body>\n",
        "한줄을 쓰고\n",
        "\n",
        "\n",
        "\n",
        "한줄을 쓰고\n",
        "<br>\n",
        "<br>\n",
        "<br>\n",
        "\n",
        "\n",
        "한 줄\n",
        "<body>\n",
        "\n",
        "한줄의 쓰고\n",
        "\n",
        "한줄의 쓰고"
      ],
      "metadata": {
        "id": "OgrWpBXM1yXD"
      }
    },
    {
      "cell_type": "markdown",
      "source": [
        "### HTML 코드와 공백\n",
        "한            줄\n",
        "\n",
        "한&nbsp;&nbsp;&nbsp;&nbsp;&nbsp;&nbsp;&nbsp;&nbsp;            줄"
      ],
      "metadata": {
        "id": "ujpGdHib2oZD"
      }
    },
    {
      "cell_type": "markdown",
      "source": [
        "### 있는 그대로 표시하기\n",
        "---\n",
        "```\n",
        "있는 그대로 표시\n",
        "for i in range(5):\n",
        "    print(i)\n",
        "```\n",
        "<pre>\n",
        "있는 그대로 표시\n",
        "for i in range(5):\n",
        "    print(i)"
      ],
      "metadata": {
        "id": "VlhSzeTG3JrM"
      }
    },
    {
      "cell_type": "code",
      "source": [
        ""
      ],
      "metadata": {
        "id": "Gvcx0mJ93oCM"
      },
      "execution_count": null,
      "outputs": []
    }
  ]
}